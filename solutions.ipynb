{
 "cells": [
  {
   "cell_type": "markdown",
   "id": "05ba6355-37c2-4589-af87-fe540091da78",
   "metadata": {},
   "source": [
    "# Particles in a Box\n",
    "*UW ASTR 507 Homework 1 (Notebook and framework made by Tom Wagg)*"
   ]
  },
  {
   "cell_type": "markdown",
   "id": "ebaad0c6-c6e5-4dc2-9f95-4a0d87220aab",
   "metadata": {},
   "source": [
    "# Contents\n",
    "\n",
    "1. [General problem description and guidance](#prob_desc)\n",
    "2. [Code framework description](#frame_desc)\n",
    "3. [TODO list](#todo)\n",
    "4. [Solutions](#solutions)"
   ]
  },
  {
   "cell_type": "markdown",
   "id": "811649c4-70ca-49da-937c-570228a32edd",
   "metadata": {},
   "source": [
    "# <span id=\"prob_desc\">General problem description and guidance</span>"
   ]
  },
  {
   "cell_type": "markdown",
   "id": "6eb1365f-d556-4e2b-b0cf-06b5adc1d237",
   "metadata": {},
   "source": [
    "*The following cell is copied directly from the problem description, just split into bullet points*"
   ]
  },
  {
   "cell_type": "markdown",
   "id": "5cb2427e-179b-4130-b39e-9e5852fbbf93",
   "metadata": {},
   "source": [
    "Numerically compute the distribution of kinetic energy of a **two**-dimensional monatomic ideal gas.\n",
    "\n",
    "- Start off with equal kinetic energy, $E$, for $N$ particles in a square box, but random positions and moving in random directions. Follow the particles until they collide (be careful how you handle the collisions).\n",
    "- Conserve momentum and energy in the collisions (see, e.g., Reif, 14.1-14.2, Feynman 39) and assume that the colliding particles hard spheres (in which case they experience an elastic force directed along the line connecting the center of the spheres when they touch).\n",
    "    - *Alternatively, you may instead make the approximation that when they collide the particles receive a kick in a random direction in the center-of-mass frame (make sure you conserve energy and momentum!).*\n",
    "- Allow the cross section and number of particles to vary in your program. You can make the sides of the box reflecting or periodic."
   ]
  },
  {
   "cell_type": "markdown",
   "id": "1a54be0c-81c3-422b-9fe8-070a9afcdf4d",
   "metadata": {},
   "source": [
    "<hr>"
   ]
  },
  {
   "cell_type": "markdown",
   "id": "48a2ad6a-4822-40de-a70c-1d8f7a2861e8",
   "metadata": {},
   "source": [
    "# <span id=\"frame_desc\">Code framework description</span>"
   ]
  },
  {
   "cell_type": "markdown",
   "id": "9c0c2e2c-768a-4c90-afdc-7f9a113c4648",
   "metadata": {},
   "source": [
    "*This section explains the framework of the code I've set up to help with completing this problem. Note that this is just a general description, specific information is in comments in the code*"
   ]
  },
  {
   "cell_type": "markdown",
   "id": "9e3c64ca-5f80-4a1e-8de0-3cd9c4defbcd",
   "metadata": {},
   "source": [
    "**Overview of Simulator Class**\n",
    "\n",
    "The main part of the code is the Simulator class. If you haven't heard of [Python Classes](https://www.w3schools.com/python/python_classes.asp) before, they are essentially a way of attaching variables, functions, etc. to a specific object. In this case, the class is our box full of particles.\n",
    "\n",
    "The class contains variables that track\n",
    "- size of the box\n",
    "- initial kinetic energy of each particle\n",
    "- array of positions ($x$, $y$ for each particle)\n",
    "- array of velocities ($v_x$, $v_y$, for each particle)\n",
    "- radius of particles\n",
    "- mass of each particle\n",
    "\n",
    "This class also has a series of functions that initialise all of the particles and then handle different events. Each of these events generally happen during `run_simulation` which handles the actual evolution of the particles."
   ]
  },
  {
   "cell_type": "markdown",
   "id": "f519f3ad-0ac4-4b90-ad23-e7ad6bade698",
   "metadata": {},
   "source": [
    "**Overview of `run_simulation()`**\n",
    "\n",
    "For each timestep the function does the following\n",
    "1. Move the particles based on their current velocities and size of timestep\n",
    "2. Resolve any collisions with particles with the wall\n",
    "3. Resolve any collisions between particles\n",
    "\n",
    "Though, in reality it currently does NOT do this, you need to handle these things! See below for a list of things you need to do"
   ]
  },
  {
   "cell_type": "markdown",
   "id": "70b3465d-584a-4b24-a6e6-fd230e97ae36",
   "metadata": {},
   "source": [
    "# <span id=\"todo\">Implementation TODO list</span>"
   ]
  },
  {
   "cell_type": "markdown",
   "id": "7bd23187-c80e-4158-8af2-c635597325af",
   "metadata": {},
   "source": [
    "*Before you can complete the main three problems of this problem set you'll need to implement the following features. Each are marked in the code with a comment containing \"TODO\"*"
   ]
  },
  {
   "cell_type": "markdown",
   "id": "8d220213-fe41-4970-98ad-e3d4a55c493c",
   "metadata": {},
   "source": [
    "**Initialisation**\n",
    "1. [ ] Assign random initial positions\n",
    "    - Currently everything is just at the origin, they should be random across the box!\n",
    "    - (You should also consider that two particles shouldn't start on top of one another)\n",
    "2. [ ] Assign random initial velocities\n",
    "    - Each particle has the same initial kinetic energy `E`\n",
    "    - Distribute this kinetic energy randomly amongst the x and y components and in a random direction (positive or negative in each axis)\n",
    "**Recurring functions**\n",
    "\n",
    "3. [ ] Update particle positions based on current velocities in `run_simulation()`\n",
    "4. [ ] Resolve any collisions with walls by implementing `resolve_wall_collisions()`\n",
    "    - Don't forget to account for the fact that particles have a finite radius\n",
    "    - Particles could get lucky and hit two walls in a single timestep at a corner!\n",
    "5. [ ] Resolve any collisions between particles by implementing `resolve_particle_collisions()`\n",
    "    - Consider how you can tell when two particles are colliding\n",
    "    - You may wish to consider both where the particles currently are and *in which direction* they are moving"
   ]
  },
  {
   "cell_type": "markdown",
   "id": "23ef59e9-9334-4803-b597-7a8e8d39e561",
   "metadata": {},
   "source": [
    "<hr>"
   ]
  },
  {
   "cell_type": "markdown",
   "id": "07d68df3-6fdb-48d0-8d8c-6d98028ecdbb",
   "metadata": {},
   "source": [
    "# Testing/visualising your simulation\n",
    "We recommend that you try out your code, visualise the particles and check that everything looks right **before** you get started on answering the questions below. We've made `visualise_simulator.py` for you that should suit your purposes.\n",
    "\n",
    "Once you've started implementing some parts, go into `visualise_simulator.py` and choose some valid values for the input. Then just run `python visualise_simulator.py` from the command line and you should see a visualisation of your particles! :D"
   ]
  },
  {
   "cell_type": "markdown",
   "id": "115b9cba-121f-48a2-baf5-48cb3740a454",
   "metadata": {},
   "source": [
    "<hr>"
   ]
  },
  {
   "cell_type": "markdown",
   "id": "335f237f-1975-4c1e-b0f7-d5c1ddb6bfaa",
   "metadata": {
    "tags": []
   },
   "source": [
    "# <span id=\"solutions\">Solutions</span>"
   ]
  },
  {
   "cell_type": "markdown",
   "id": "649dd1b9-67fb-4765-9e29-7c0697056c6a",
   "metadata": {},
   "source": [
    "## Question 1"
   ]
  },
  {
   "cell_type": "markdown",
   "id": "a2a7e8e5-b19a-46c3-a039-81a9f4a43270",
   "metadata": {},
   "source": [
    "### 1a - Code summary\n",
    "Write a detailed summary of what choices you make in your code and how it works. Specifically, address the dimensions you use for velocity, mass, energy, length, and time. Discuss how you determine if a collision has occurred, what equations you solve during a collision, and how you handle the box boundaries. Email me your code, preferably written in Julia in a commented Jupyter notebook."
   ]
  },
  {
   "cell_type": "markdown",
   "id": "5b9be592-fe16-45e9-97b9-40311e8b8166",
   "metadata": {},
   "source": []
  },
  {
   "cell_type": "markdown",
   "id": "959bf038-008b-4583-afd8-1f63a93e25a5",
   "metadata": {},
   "source": [
    "### 1b - Snapshot Plots"
   ]
  },
  {
   "cell_type": "markdown",
   "id": "8cfb5d35-c42a-4aaa-b319-d9fefb111209",
   "metadata": {},
   "source": [
    "Make four plots for a case with 100 particles, each with a radius equal to 2\\% of the size of the box. The first two plots should show the position of the particles (and sizes if you would like) at the initial time, and another snapshot after a long enough time that the particle velocity distribution has reached a steady-state in which the initial condition is forgotten. The second two plots should show the velocity distribution of the particles at the initial and final times."
   ]
  },
  {
   "cell_type": "code",
   "execution_count": null,
   "id": "659c6a61-296d-483e-830e-6c3fbe45cf03",
   "metadata": {},
   "outputs": [],
   "source": [
    "# this makes sure that you're using the latest version of your simulator\n",
    "reload(simulator)\n",
    "\n",
    "# pick a box size, initial kinetic energy and mass\n",
    "E = None\n",
    "size = None\n",
    "mass = None\n",
    "\n",
    "# radius is 2% of box size, 100 particles\n",
    "radius = size * 0.02\n",
    "N = 100\n",
    "\n",
    "sim = simulator.Simulation(N=N, E=E, radius=radius, size=size, masses=mass, visualise=False)\n",
    "sim.run_simulation(10000)"
   ]
  },
  {
   "cell_type": "code",
   "execution_count": 2,
   "id": "5a6df556-f440-4182-9c60-020bc92eaf84",
   "metadata": {},
   "outputs": [],
   "source": [
    "# make some plots using `sim` results"
   ]
  },
  {
   "cell_type": "markdown",
   "id": "4091364e-cd99-4bd8-8bf5-6afebe7cc4a9",
   "metadata": {},
   "source": [
    "## Question 2\n",
    "### 2a - 2D Maxwellian Derivation"
   ]
  },
  {
   "cell_type": "markdown",
   "id": "7bd51602-6dbd-4c32-b35d-1087d4bfc3ab",
   "metadata": {},
   "source": [
    "Derive the energy and velocity distribution for a Maxwellian as a function of speed and energy **in two dimensions**, $dN/dv$ and $dN/dE$, where $v = \\vert \\mathbf{v} \\vert|$ is the speed, $\\mathbf{v}$ is the velocity, and $E$ is the energy.  You can start with the result that $f(q,p) \\propto e^{-(E/k_BT)}$."
   ]
  },
  {
   "cell_type": "markdown",
   "id": "76f964b5-38fd-490b-8373-6e39276ac265",
   "metadata": {},
   "source": [
    "\\begin{align}\n",
    "    f(q, p) &\\propto e^{-(E / k_B T)}\n",
    "\\end{align}"
   ]
  },
  {
   "cell_type": "markdown",
   "id": "4eb309b2-b57f-457c-8b0d-3e85609f4908",
   "metadata": {},
   "source": [
    "***(edit cell above to continue derivation from the starting expression)***"
   ]
  },
  {
   "cell_type": "markdown",
   "id": "a339ae6e-c495-4f3d-8cb7-cbe25c19cb7d",
   "metadata": {
    "tags": []
   },
   "source": [
    "### 2b - Show distribution approaches Maxwellian"
   ]
  },
  {
   "cell_type": "markdown",
   "id": "4ec13a94-e7a9-4918-8d5a-27a74a89afc9",
   "metadata": {},
   "source": [
    "Show that the energy (or speed) distribution of your simulation particles approaches a 2-D Maxwellian by plotting the speed distribution, either a histogram or cumulative distribution, averaged over several timesteps (or over several simulations) to make a smooth curve.  Overplot the 2-D Maxwellian distribution you computed in part (a), normalized to agree."
   ]
  },
  {
   "cell_type": "code",
   "execution_count": 4,
   "id": "47880991-58bd-4bec-be9f-39375b703071",
   "metadata": {},
   "outputs": [],
   "source": [
    "# make your plot here"
   ]
  },
  {
   "cell_type": "markdown",
   "id": "83647317-bed4-4050-a1a9-c3fd55a59971",
   "metadata": {},
   "source": [
    "### 2c - Multiple Masses"
   ]
  },
  {
   "cell_type": "markdown",
   "id": "0762a05a-5c73-498c-b697-8c74b7fd5f9b",
   "metadata": {},
   "source": [
    "Now make half of the masses 10 times larger. Does the velocity distribution follow a single Maxwellian? Does the energy distribution?  Explain your results."
   ]
  },
  {
   "cell_type": "code",
   "execution_count": 5,
   "id": "1b1ad43d-32b6-4251-b780-26902d2811ec",
   "metadata": {},
   "outputs": [],
   "source": [
    "# make plots and explain them here"
   ]
  },
  {
   "cell_type": "markdown",
   "id": "419dd99d-e41f-4ee7-916e-0ab3873c492d",
   "metadata": {},
   "source": [
    "## Question 3"
   ]
  },
  {
   "cell_type": "markdown",
   "id": "753dee37-e261-4833-ae75-69f63902a4d5",
   "metadata": {},
   "source": [
    "Initially the distribution of particle energies changes rapidly, but eventually it approaches a steady-state.\n",
    "\n",
    "### 3a - Relaxation Criterion\n",
    "Invent a numerical criterion for when your system has \"relaxed\", i.e. how can you tell from the distribution of particle velocities (or energies) that the system is in a statistically steady-state. "
   ]
  },
  {
   "cell_type": "markdown",
   "id": "7a11242c-5e78-4a47-bab9-95a63fb96e2f",
   "metadata": {},
   "source": []
  },
  {
   "cell_type": "markdown",
   "id": "1db655d3-5733-4880-8aef-39d9b6b04391",
   "metadata": {},
   "source": [
    "### 3b - Relaxation time derivation\n",
    "Derive a formula for the relaxation time for each particle as a function of the initial velocity of each particle, $v_0$, the cross section, $\\sigma$ (**which in 2-D case has units of length, not area**), and the number density of particles, $n$ (**which has units of 1/area in 2-D**)."
   ]
  },
  {
   "cell_type": "markdown",
   "id": "f38a60c8-e20a-4aff-bc48-83ee1766795c",
   "metadata": {},
   "source": []
  },
  {
   "cell_type": "markdown",
   "id": "03494aae-ff22-4aaf-8f77-0c0d0544bb42",
   "metadata": {},
   "source": [
    "### 3c - Comparison with Criterion\n",
    "Vary the number density, particle size (i.e. cross section), and number density of particles to show that the criterion you developed in part (a) scales in the same way as the relaxation time from part (b). Demonstrate that these relations agree with a plot or two."
   ]
  },
  {
   "cell_type": "code",
   "execution_count": 6,
   "id": "42591499-8a84-433a-a044-4b1f59c35aac",
   "metadata": {},
   "outputs": [],
   "source": [
    "# your code here"
   ]
  },
  {
   "cell_type": "markdown",
   "id": "51972f77-f3e0-435f-a293-b33ca8dd788f",
   "metadata": {},
   "source": [
    "<hr>\n",
    "\n",
    "## Problem 4 (Extra Credit)\n",
    "Demonstrate that $P=nkT$ holds for your simulations - try a few different values of $n$ and $kT$ (i.e. number density and mean energy of particles). Compute the mean pressure by calculating the force per length (since 2-D) on each (or just one) side of your box.  You can do this by using the definition of pressure:  force divided by length (in 2-D), and compute the forces of each particle as it reflects off of each side (if you have periodic boundary conditions, then keep track of the momentum perpendicular to the edges as the particles jump from one side of the box to the other). The average force imparted is the average change in momentum of the particle as they reflect (or twice the momentum perpendicular to the side) divided by the average time between collisions."
   ]
  },
  {
   "cell_type": "code",
   "execution_count": 7,
   "id": "62ff4fd2-ac85-4d9c-b6f2-65b6798b209e",
   "metadata": {},
   "outputs": [],
   "source": [
    "# your code here"
   ]
  }
 ],
 "metadata": {
  "kernelspec": {
   "display_name": "Python 3 (ipykernel)",
   "language": "python",
   "name": "python3"
  },
  "language_info": {
   "codemirror_mode": {
    "name": "ipython",
    "version": 3
   },
   "file_extension": ".py",
   "mimetype": "text/x-python",
   "name": "python",
   "nbconvert_exporter": "python",
   "pygments_lexer": "ipython3",
   "version": "3.9.7"
  }
 },
 "nbformat": 4,
 "nbformat_minor": 5
}
